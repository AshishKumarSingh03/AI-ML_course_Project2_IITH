{
 "cells": [
  {
   "cell_type": "markdown",
   "id": "3babbe27",
   "metadata": {},
   "source": [
    "# Defining the Himmelblau Function"
   ]
  },
  {
   "cell_type": "code",
   "execution_count": 1,
   "id": "370ede58",
   "metadata": {},
   "outputs": [],
   "source": [
    "def fun(x):\n",
    "    return((x[0]**2+x[1]-11)**2+(x[0]+x[1]**2-7)**2 )\n"
   ]
  },
  {
   "cell_type": "markdown",
   "id": "b072c1c0",
   "metadata": {},
   "source": [
    "# Importing the scipy.optimize"
   ]
  },
  {
   "cell_type": "code",
   "execution_count": 2,
   "id": "a92628b1",
   "metadata": {},
   "outputs": [],
   "source": [
    "import scipy.optimize as optimize"
   ]
  },
  {
   "cell_type": "markdown",
   "id": "84e2120b",
   "metadata": {},
   "source": [
    "# Giving the constraint of the Function"
   ]
  },
  {
   "cell_type": "code",
   "execution_count": 3,
   "id": "b5d3c6a9",
   "metadata": {},
   "outputs": [],
   "source": [
    "constraint=({'type':'ineq','fun':lambda x: x[0]**2+x[1]**2-25})\n",
    "      #{'type':'ineq','fun':lambda x: -x[0]-5},\n",
    "      #{'type':'ineq','fun':lambda x: x[1]-5},)\n",
    "#bounds=((-5,10),(-10,5))\n"
   ]
  },
  {
   "cell_type": "markdown",
   "id": "2a990a72",
   "metadata": {},
   "source": [
    "# Providing the Upper and Lower Bounds of the X1 & X2"
   ]
  },
  {
   "cell_type": "code",
   "execution_count": 4,
   "id": "9dcdbeee",
   "metadata": {},
   "outputs": [],
   "source": [
    "bounds=((-5,10),(-10,5))"
   ]
  },
  {
   "cell_type": "markdown",
   "id": "d7b845bd",
   "metadata": {},
   "source": [
    "# Minimizing fun with initial conditions & using SLSQP Algorithm"
   ]
  },
  {
   "cell_type": "code",
   "execution_count": 5,
   "id": "e80375a2",
   "metadata": {},
   "outputs": [],
   "source": [
    "res=optimize.minimize(fun,(-4,-3),method='SLSQP',bounds=bounds,constraints=constraint)"
   ]
  },
  {
   "cell_type": "markdown",
   "id": "23588659",
   "metadata": {},
   "source": [
    "#  Optimize X1 & X2 value "
   ]
  },
  {
   "cell_type": "code",
   "execution_count": 6,
   "id": "8401ffbf",
   "metadata": {},
   "outputs": [
    {
     "data": {
      "text/plain": [
       "array([-3.77931004, -3.28318593])"
      ]
     },
     "execution_count": 6,
     "metadata": {},
     "output_type": "execute_result"
    }
   ],
   "source": [
    "res.x"
   ]
  },
  {
   "cell_type": "markdown",
   "id": "fc1d4ed8",
   "metadata": {},
   "source": [
    "# Optimize Fun value "
   ]
  },
  {
   "cell_type": "code",
   "execution_count": 7,
   "id": "52568f4a",
   "metadata": {},
   "outputs": [
    {
     "data": {
      "text/plain": [
       "2.5289416192976698e-12"
      ]
     },
     "execution_count": 7,
     "metadata": {},
     "output_type": "execute_result"
    }
   ],
   "source": [
    "res.fun"
   ]
  }
 ],
 "metadata": {
  "kernelspec": {
   "display_name": "Python 3 (ipykernel)",
   "language": "python",
   "name": "python3"
  },
  "language_info": {
   "codemirror_mode": {
    "name": "ipython",
    "version": 3
   },
   "file_extension": ".py",
   "mimetype": "text/x-python",
   "name": "python",
   "nbconvert_exporter": "python",
   "pygments_lexer": "ipython3",
   "version": "3.9.12"
  }
 },
 "nbformat": 4,
 "nbformat_minor": 5
}
