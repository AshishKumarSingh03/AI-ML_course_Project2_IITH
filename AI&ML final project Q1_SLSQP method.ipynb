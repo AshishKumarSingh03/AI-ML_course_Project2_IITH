{
 "cells": [
  {
   "cell_type": "markdown",
   "id": "710f36b3",
   "metadata": {},
   "source": [
    "# Importing the numpy and pandas library"
   ]
  },
  {
   "cell_type": "code",
   "execution_count": 1,
   "id": "cd53008f",
   "metadata": {},
   "outputs": [],
   "source": [
    "import numpy as np\n",
    "import pandas as pd\n"
   ]
  },
  {
   "cell_type": "markdown",
   "id": "aa77ff0a",
   "metadata": {},
   "source": [
    "# Loading the Data excel file"
   ]
  },
  {
   "cell_type": "code",
   "execution_count": 2,
   "id": "35f92ae2",
   "metadata": {},
   "outputs": [],
   "source": [
    "data = pd.read_excel(\"C:\\\\Users\\\\ASUD\\\\Downloads\\\\data.xlsx\")"
   ]
  },
  {
   "cell_type": "code",
   "execution_count": 3,
   "id": "b8b8419d",
   "metadata": {},
   "outputs": [
    {
     "data": {
      "text/plain": [
       "(21, 4)"
      ]
     },
     "execution_count": 3,
     "metadata": {},
     "output_type": "execute_result"
    }
   ],
   "source": [
    "data.shape"
   ]
  },
  {
   "cell_type": "markdown",
   "id": "3a3904f6",
   "metadata": {},
   "source": [
    "# Loading the time-span,concentration of A ,B,C"
   ]
  },
  {
   "cell_type": "code",
   "execution_count": 4,
   "id": "04a48e7d",
   "metadata": {},
   "outputs": [],
   "source": [
    "t_span = np.array(data.iloc[:,0])\n",
    "Ca=np.array(data.iloc[:,1])\n",
    "Cb=np.array(data.iloc[:,2])\n",
    "Cc=np.array(data.iloc[:,3])"
   ]
  },
  {
   "cell_type": "code",
   "execution_count": 5,
   "id": "c329c1f5",
   "metadata": {},
   "outputs": [
    {
     "data": {
      "text/plain": [
       "array([0.  , 0.05, 0.1 , 0.15, 0.2 , 0.25, 0.3 , 0.35, 0.4 , 0.45, 0.5 ,\n",
       "       0.55, 0.6 , 0.65, 0.7 , 0.75, 0.8 , 0.85, 0.9 , 0.95, 1.  ])"
      ]
     },
     "execution_count": 5,
     "metadata": {},
     "output_type": "execute_result"
    }
   ],
   "source": [
    "t_span"
   ]
  },
  {
   "cell_type": "code",
   "execution_count": 6,
   "id": "ec6a556f",
   "metadata": {},
   "outputs": [
    {
     "data": {
      "text/plain": [
       "array([1.        , 0.74080857, 0.54877057, 0.40657779, 0.30118162,\n",
       "       0.22314199, 0.16529744, 0.12246697, 0.09072015, 0.06721352,\n",
       "       0.04978992, 0.03688878, 0.02732619, 0.02024566, 0.01499743,\n",
       "       0.01111142, 0.00823103, 0.00609828, 0.00451744, 0.00334695,\n",
       "       0.00247949])"
      ]
     },
     "execution_count": 6,
     "metadata": {},
     "output_type": "execute_result"
    }
   ],
   "source": [
    "Ca"
   ]
  },
  {
   "cell_type": "code",
   "execution_count": 7,
   "id": "36b0fec8",
   "metadata": {},
   "outputs": [
    {
     "data": {
      "text/plain": [
       "array([0.        , 0.08639714, 0.15040981, 0.1978074 , 0.23293946,\n",
       "       0.25895267, 0.27823419, 0.29251101, 0.30309328, 0.31092883,\n",
       "       0.31673669, 0.32103707, 0.3242246 , 0.32658478, 0.32833419,\n",
       "       0.32962953, 0.33058966, 0.33130057, 0.33182752, 0.33221768,\n",
       "       0.33250684])"
      ]
     },
     "execution_count": 7,
     "metadata": {},
     "output_type": "execute_result"
    }
   ],
   "source": [
    "Cb"
   ]
  },
  {
   "cell_type": "code",
   "execution_count": 8,
   "id": "0119e8eb",
   "metadata": {},
   "outputs": [
    {
     "data": {
      "text/plain": [
       "array([0.        , 0.17279428, 0.30081962, 0.39561481, 0.46587892,\n",
       "       0.51790534, 0.55646837, 0.58502202, 0.60618656, 0.62185766,\n",
       "       0.63347339, 0.64207415, 0.64844921, 0.65316956, 0.65666838,\n",
       "       0.65925905, 0.66117931, 0.66260115, 0.66365504, 0.66443536,\n",
       "       0.66501367])"
      ]
     },
     "execution_count": 8,
     "metadata": {},
     "output_type": "execute_result"
    }
   ],
   "source": [
    "Cc"
   ]
  },
  {
   "cell_type": "markdown",
   "id": "c5e7345b",
   "metadata": {},
   "source": [
    "# Defining the Odes function"
   ]
  },
  {
   "cell_type": "code",
   "execution_count": 9,
   "id": "2569196a",
   "metadata": {},
   "outputs": [],
   "source": [
    "def odes(t,y,*K):\n",
    "    dydt=np.zeros(3)\n",
    "    Ca=y[0]\n",
    "    Cb=y[1]\n",
    "    Cc=y[2]\n",
    "    k1=K[0]\n",
    "    k2=K[1]\n",
    "    dydt[0]=-(k1*Ca + k2*Ca)\n",
    "    dydt[1]=k1*Ca\n",
    "    dydt[2]=k2*Ca\n",
    "    return (dydt)"
   ]
  },
  {
   "cell_type": "markdown",
   "id": "c15d4713",
   "metadata": {},
   "source": [
    "# Importing the library"
   ]
  },
  {
   "cell_type": "code",
   "execution_count": 10,
   "id": "b2116726",
   "metadata": {},
   "outputs": [],
   "source": [
    "from scipy.optimize import minimize\n",
    "import math\n",
    "from scipy.integrate import solve_ivp\n",
    "import matplotlib.pyplot as plt"
   ]
  },
  {
   "cell_type": "markdown",
   "id": "08f11674",
   "metadata": {},
   "source": [
    "# Defining the objective function for finding the rmse"
   ]
  },
  {
   "cell_type": "code",
   "execution_count": 11,
   "id": "b4824075",
   "metadata": {},
   "outputs": [],
   "source": [
    "def object_func(K):\n",
    "    y0 = [1,0,0]\n",
    "    t_span = np.array([0,1])\n",
    "    t_point= np.linspace(0,1,21)\n",
    "    \n",
    "    soln = solve_ivp(odes,t_span,y0,t_eval=t_point, args=(K))\n",
    "    y= soln.y.T\n",
    "    \n",
    "    sum1=0\n",
    "    sum2=0\n",
    "    sum3=0\n",
    "  \n",
    "    for i in np.linspace(0,1,21):\n",
    "        i=int(i)\n",
    "        sum1=sum1+((Ca[i])-(y[i,0]))**2\n",
    "        sum2=sum2+((Cb[i])-(y[i,1]))**2\n",
    "        sum3=sum3+((Cc[i])-(y[i,2]))**2\n",
    "        \n",
    "    rmse1=((math.sqrt((sum1)))/20)\n",
    "    rmse2=((math.sqrt((sum2)))/20)\n",
    "    rmse3=((math.sqrt((sum3)))/20)\n",
    "    rmse=(rmse1+rmse2+rmse3)/3\n",
    "    return (rmse)\n",
    "\n",
    "\n"
   ]
  },
  {
   "cell_type": "markdown",
   "id": "c1cc5439",
   "metadata": {},
   "source": [
    "# Minimizing the objective function by estimating K1 & K2  by  using SLSQP method"
   ]
  },
  {
   "cell_type": "code",
   "execution_count": 12,
   "id": "5bafe099",
   "metadata": {},
   "outputs": [],
   "source": [
    "K0=[0.1,2]\n",
    "soln1= minimize(object_func, K0, method='SLSQP')\n"
   ]
  },
  {
   "cell_type": "markdown",
   "id": "64bd4f55",
   "metadata": {},
   "source": [
    "# value of K1 & K2"
   ]
  },
  {
   "cell_type": "code",
   "execution_count": 13,
   "id": "dc5d74f0",
   "metadata": {},
   "outputs": [
    {
     "data": {
      "text/plain": [
       "array([2.04860817, 3.95057179])"
      ]
     },
     "execution_count": 13,
     "metadata": {},
     "output_type": "execute_result"
    }
   ],
   "source": [
    "K=soln1.x\n",
    "K"
   ]
  },
  {
   "cell_type": "markdown",
   "id": "2796cfbd",
   "metadata": {},
   "source": [
    "# Solving Odes function by  solve_ivp solver"
   ]
  },
  {
   "cell_type": "code",
   "execution_count": 14,
   "id": "79b039d0",
   "metadata": {},
   "outputs": [],
   "source": [
    "K=soln1.x\n",
    "\n",
    "y0 = [1,0,0]\n",
    "t_span = np.array([0,1])\n",
    "t_point= np.linspace(0,1,21)\n",
    "\n",
    "soln = solve_ivp(odes,t_span,y0,t_eval=t_point,args=(K))\n",
    "y= soln.y.T"
   ]
  },
  {
   "cell_type": "markdown",
   "id": "b4a9953e",
   "metadata": {},
   "source": [
    "# Plotting the graph between time and concentraion of A,B,C"
   ]
  },
  {
   "cell_type": "code",
   "execution_count": 15,
   "id": "f7af5ae6",
   "metadata": {},
   "outputs": [
    {
     "data": {
      "image/png": "[encoded data removed]",
      "text/plain": [
       "<Figure size 720x720 with 1 Axes>"
      ]
     },
     "metadata": {
      "needs_background": "light"
     },
     "output_type": "display_data"
    }
   ],
   "source": [
    "t=soln.t\n",
    "A=soln.y[0]\n",
    "B=soln.y[1]\n",
    "C=soln.y[2]\n",
    "\n",
    "plt.figure(figsize=(10,10))\n",
    "plt.plot(t,A,label='concentraion of A',color='green')\n",
    "plt.plot(t,B,label='concentraion of B',color='blue')\n",
    "plt.plot(t,C,label='concentraion of C',color='red')\n",
    "plt.xlabel('Time Span',fontsize=30)\n",
    "plt.ylabel('Concentration',fontsize=30)\n",
    "plt.legend(fontsize=20)\n",
    "plt.show()"
   ]
  }
 ],
 "metadata": {
  "kernelspec": {
   "display_name": "Python 3 (ipykernel)",
   "language": "python",
   "name": "python3"
  },
  "language_info": {
   "codemirror_mode": {
    "name": "ipython",
    "version": 3
   },
   "file_extension": ".py",
   "mimetype": "text/x-python",
   "name": "python",
   "nbconvert_exporter": "python",
   "pygments_lexer": "ipython3",
   "version": "3.9.12"
  }
 },
 "nbformat": 4,
 "nbformat_minor": 5
}
