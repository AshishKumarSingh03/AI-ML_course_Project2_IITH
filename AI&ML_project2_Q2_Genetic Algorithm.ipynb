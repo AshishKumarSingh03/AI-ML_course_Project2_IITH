{
 "cells": [
  {
   "cell_type": "markdown",
   "id": "c20f9717",
   "metadata": {
    "scrolled": true
   },
   "source": [
    "# Importing Library"
   ]
  },
  {
   "cell_type": "code",
   "execution_count": 1,
   "id": "e17f4cc7",
   "metadata": {},
   "outputs": [],
   "source": [
    "from pymoo.core.problem import Problem\n",
    "import numpy as np"
   ]
  },
  {
   "cell_type": "markdown",
   "id": "57fb77fe",
   "metadata": {},
   "source": [
    "# Defining Himmelblau function and constraint"
   ]
  },
  {
   "cell_type": "markdown",
   "id": "2ed9d004",
   "metadata": {},
   "source": [
    " Himmelblau's Function for optimization\n",
    "\n",
    "min (x1^2 + x2 − 11)^2 + (x1 + x2^2 − 7)^2\n",
    "\n",
    "(x1,x2)\n",
    "\n",
    "s.t\n",
    "\n",
    "x1^2 + x2^2 ≥ 25\n",
    "\n",
    "−5 ≤ x1\n",
    "\n",
    "x2 ≤ 5"
   ]
  },
  {
   "cell_type": "code",
   "execution_count": 2,
   "id": "03b2220c",
   "metadata": {},
   "outputs": [],
   "source": [
    "class G1(Problem):\n",
    "    def __init__(self):\n",
    "        n_var1 = 2 # number of variable is 2 i.e. X1 and X2\n",
    "        xlo = np.array([-5, -10], dtype=float)  # lower bound of x1=-5 ,X2=-10\n",
    "        xu = np.array([10, 5], dtype=float) # lower bound of x1=-5 ,X2=-10\n",
    "        super().__init__(n_var=n_var1,n_obj=1, n_ieq_constr=1, xl=xlo, xu=xu, vtype=float)\n",
    "\n",
    "    def _evaluate(self, x, out, *args, **kwargs):\n",
    "        x1 = x[:, 0]\n",
    "        x2 = x[:, 1]\n",
    "\n",
    "        f =(x1**2+x2-11)**2+(x1+x2**2-7)**2 \n",
    "# Constraints\n",
    "        g1 =-x1**2-x2**2+25 \n",
    "       \n",
    "       \n",
    "        out[\"F\"] = f\n",
    "        out[\"G\"] = [g1]\n",
    "\n",
    "       "
   ]
  },
  {
   "cell_type": "markdown",
   "id": "69d9a148",
   "metadata": {},
   "source": [
    "# Importing  Library"
   ]
  },
  {
   "cell_type": "code",
   "execution_count": 3,
   "id": "8f5f2cc2",
   "metadata": {},
   "outputs": [],
   "source": [
    "from pymoo.algorithms.soo.nonconvex.ga import GA\n",
    "from pymoo.optimize import minimize"
   ]
  },
  {
   "cell_type": "code",
   "execution_count": 4,
   "id": "b855ea93",
   "metadata": {},
   "outputs": [],
   "source": [
    "problem =G1()\n",
    "\n",
    "algorithm = GA(\n",
    "    pop_size=200,\n",
    "    eliminate_duplicates=True)\n",
    "\n",
    "res = minimize(problem,\n",
    "               algorithm,\n",
    "               seed=1,\n",
    "               verbose=False)\n",
    "\n"
   ]
  },
  {
   "cell_type": "code",
   "execution_count": 5,
   "id": "4ab398ca",
   "metadata": {},
   "outputs": [
    {
     "data": {
      "text/plain": [
       "array([-3.77930249, -3.28315084])"
      ]
     },
     "execution_count": 5,
     "metadata": {},
     "output_type": "execute_result"
    }
   ],
   "source": [
    "res.X"
   ]
  },
  {
   "cell_type": "code",
   "execution_count": 6,
   "id": "d89bbfba",
   "metadata": {},
   "outputs": [
    {
     "data": {
      "text/plain": [
       "array([5.03080946e-08])"
      ]
     },
     "execution_count": 6,
     "metadata": {},
     "output_type": "execute_result"
    }
   ],
   "source": [
    "res.F"
   ]
  },
  {
   "cell_type": "markdown",
   "id": "6a7dc30e",
   "metadata": {},
   "source": [
    "# Printing the Value of the X1 , X2 and fun value "
   ]
  },
  {
   "cell_type": "code",
   "execution_count": 7,
   "id": "8ac85e8d",
   "metadata": {},
   "outputs": [
    {
     "name": "stdout",
     "output_type": "stream",
     "text": [
      "Best solution found: \n",
      "X = [-3.77930249 -3.28315084]\n",
      "F = [5.03080946e-08]\n"
     ]
    }
   ],
   "source": [
    "print(\"Best solution found: \\nX = %s\\nF = %s\" % (res.X, res.F))"
   ]
  }
 ],
 "metadata": {
  "kernelspec": {
   "display_name": "Python 3 (ipykernel)",
   "language": "python",
   "name": "python3"
  },
  "language_info": {
   "codemirror_mode": {
    "name": "ipython",
    "version": 3
   },
   "file_extension": ".py",
   "mimetype": "text/x-python",
   "name": "python",
   "nbconvert_exporter": "python",
   "pygments_lexer": "ipython3",
   "version": "3.9.12"
  }
 },
 "nbformat": 4,
 "nbformat_minor": 5
}
